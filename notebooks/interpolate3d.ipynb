{
 "cells": [
  {
   "cell_type": "code",
   "execution_count": 1,
   "id": "6c7b15c5",
   "metadata": {},
   "outputs": [],
   "source": [
    "import numpy as np\n",
    "from scipy.interpolate import UnivariateSpline, SmoothBivariateSpline, griddata,splprep, splev\n",
    "\n",
    "import matplotlib.pyplot as plt\n"
   ]
  },
  {
   "cell_type": "code",
   "execution_count": null,
   "id": "bb3c49de",
   "metadata": {},
   "outputs": [],
   "source": [
    "# python lists of x,y dst control points and zx=xsrc-xdiff, zy=ysrc-ydiff offsets to be interpolated over full image of size 129x129\n",
    "#x = [8.5, 20.5, 33.5, 48.5, 64.5, 80.5, 95.5, 109.5, 121.5, 5.5, 17.5, 31.5, 46.5, 64.5, 81.5, 97.5, 111.5, 123.5, 2.5, 14.5, 29.5, 45.5, 64.5, 83.5, 99.5, 113.5, 125.5, 1.5, 12.5, 26.5, 43.5, 64.5, 85.5, 103.5, 116.5, 127.5, 0.5, 11.5, 24.5, 41.5, 64.5, 87.5, 103.5, 117.5, 128.5, 1.5, 12.5, 25.5, 42.5, 64.5, 86.5, 103.5, 116.5, 127.5, 2.5, 14.5, 28.5, 45.5, 64.5, 83.5, 100.5, 114.5, 125.5, 5.5, 17.5, 30.5, 46.5, 64.5, 81.5, 97.5, 111.5, 123.5, 8.5, 19.5, 33.5, 48.5, 64.5, 80.5, 95.5, 109.5, 121.5]\n",
    "#y = [7.5, 5.5, 3.5, 1.5, 1.5, 1.5, 3.5, 5.5, 7.5, 20.5, 16.5, 14.5, 12.5, 11.5, 12.5, 15.5, 16.5, 19.5, 33.5, 31.5, 28.5, 26.5, 24.5, 26.5, 28.5, 31.5, 33.5, 48.5, 47.5, 45.5, 42.5, 40.5, 42.5, 45.5, 46.5, 48.5, 64.5, 64.5, 64.5, 64.5, 64.5, 64.5, 64.5, 64.5, 64.5, 80.5, 81.5, 83.5, 86.5, 87.5, 86.5, 83.5, 81.5, 80.5, 95.5, 97.5, 100.5, 103.5, 104.5, 102.5, 100.5, 97.5, 95.5, 109.5, 111.5, 114.5, 116.5, 117.5, 116.5, 114.5, 111.5, 109.5, 121.5, 123.5, 125.5, 127.5, 127.5, 127.5, 125.5, 123.5, 120.5]\n",
    "#zx = [119.5, 123.5, 126.5, 127.5, 127.5, 127.5, 128.5, 130.5, 134.5, 122.5, 126.5, 128.5, 129.5, 127.5, 126.5, 126.5, 128.5, 132.5, 125.5, 129.5, 130.5, 130.5, 127.5, 124.5, 124.5, 126.5, 130.5, 126.5, 131.5, 133.5, 132.5, 127.5, 122.5, 120.5, 123.5, 128.5, 127.5, 132.5, 135.5, 134.5, 127.5, 120.5, 120.5, 122.5, 127.5, 126.5, 131.5, 134.5, 133.5, 127.5, 121.5, 120.5, 123.5, 128.5, 125.5, 129.5, 131.5, 130.5, 127.5, 124.5, 123.5, 125.5, 130.5, 122.5, 126.5, 129.5, 129.5, 127.5, 126.5, 126.5, 128.5, 132.5, 119.5, 124.5, 126.5, 127.5, 127.5, 127.5, 128.5, 130.5, 134.5]\n",
    "#zy = [120.5, 122.5, 124.5, 126.5, 126.5, 126.5, 124.5, 122.5, 120.5, 123.5, 127.5, 129.5, 131.5, 132.5, 131.5, 128.5, 127.5, 124.5, 126.5, 128.5, 131.5, 133.5, 135.5, 133.5, 131.5, 128.5, 126.5, 127.5, 128.5, 130.5, 133.5, 135.5, 133.5, 130.5, 129.5, 127.5, 127.5, 127.5, 127.5, 127.5, 127.5, 127.5, 127.5, 127.5, 127.5, 127.5, 126.5, 124.5, 121.5, 120.5, 121.5, 124.5, 126.5, 127.5, 128.5, 126.5, 123.5, 120.5, 119.5, 121.5, 123.5, 126.5, 128.5, 130.5, 128.5, 125.5, 123.5, 122.5, 123.5, 125.5, 128.5, 130.5, 134.5, 132.5, 130.5, 128.5, 128.5, 128.5, 130.5, 132.5, 135.5]\n",
    "\n",
    "x = [40000,40100,40200, 39000, 40100, 40400, 40000,40100,40200, 41000,41100,41200, 31000,31100,31200,40000,40100,40200, 39000, 40100, 40400, 40000,40100,40200, 41000,41100,41200, 31000,31100,31200]\n",
    "y = [10000, 9000, 10000, 10100, 8000, 10100, 10000, 9000, 10000, 11000, 9100, 11000, 8000, 8100, 8000,10000, 9000, 10000, 10100, 8000, 10100, 10000, 9000, 10000, 11000, 9100, 11000, 8000, 8100, 8000]\n",
    "z = [100, 100, 100, 101, 101, 101, 102, 102, 102, 103, 103, 103,104,104,104,105,105,105,106,106,106,107,107,107, 108,108,108,109,109,109]\n",
    "print(len(x), len(z))\n",
    "# convert python lists to numpy arrays\n",
    "ax = np.asarray(x)\n",
    "ay = np.asarray(y)\n",
    "az = np.asarray(z)\n",
    "# define bbox of interpolated data\n",
    "minx = min(x)\n",
    "maxx = max(x)\n",
    "miny = min(y)\n",
    "maxy = max(y)\n",
    "bbox=[minx, maxx, miny, maxy]\n",
    "# convert bbox to numpy array\n",
    "abbox = np.asarray(bbox)\n",
    "# do interpolations\n",
    "#xd = SmoothBivariateSpline(ax, ay, az, w=None, bbox=abbox, kx=2, ky=2)\n",
    "xd = SmoothBivariateSpline(ax, ay, az, s=3, kx=1, ky=1)\n",
    "#interp_func = SmoothBivariateSpline(ax, ay, azx, s=0.1)"
   ]
  },
  {
   "cell_type": "code",
   "execution_count": 20,
   "id": "bb51f91b",
   "metadata": {},
   "outputs": [
    {
     "name": "stdout",
     "output_type": "stream",
     "text": [
      "[[  8.5  20.5]\n",
      " [ 33.5  48.5]\n",
      " [ 64.5  80.5]\n",
      " [ 95.5 109.5]\n",
      " [121.5   5.5]\n",
      " [ 17.5  31.5]]\n"
     ]
    }
   ],
   "source": [
    "data = '8.5,20.5,33.5,48.5,64.5,80.5,95.5,109.5,121.5,5.5,17.5,31.5'\n",
    "pts = np.array([tuple(map(float, x.split())) for x in data.strip().split(',')])\n",
    "pts = pts.reshape(pts.shape[0]//2, 2)\n",
    "print(pts)\n",
    "#for point in points:\n",
    "#    x,y = point.split(',')\n",
    "#    #y = v[1]\n",
    "#    print(x,y)"
   ]
  },
  {
   "cell_type": "code",
   "execution_count": null,
   "id": "3c882e7e",
   "metadata": {},
   "outputs": [],
   "source": [
    "pts = np.array([x,y]).reshape(30,2)\n",
    "pts.shape"
   ]
  },
  {
   "cell_type": "code",
   "execution_count": null,
   "id": "ee0df040",
   "metadata": {},
   "outputs": [],
   "source": [
    "points = np.array([[45375.7, 18262.1],\n",
    " [45375.7, 18262.1],\n",
    " [44299.2, 18396.6],\n",
    " [44299.2, 18531.2],\n",
    " [43828.3, 18867.6],\n",
    " [42953.6, 19405.8],\n",
    " [42953.6, 19405.8],\n",
    " [42550.4,  20011.3],\n",
    " [42886.4, 20347.7],\n",
    " [43828.3, 20347.7],\n",
    " [44501.1, 19742.2],\n",
    " [45173.9, 19204. ],\n",
    " [46183.1, 18934.9],\n",
    " [46183.1, 18934.9],\n",
    " [46115.8, 18396.6],\n",
    " [45375.7, 18262.1]])\n",
    "points.shape"
   ]
  },
  {
   "cell_type": "code",
   "execution_count": null,
   "id": "4b6aa914",
   "metadata": {},
   "outputs": [],
   "source": [
    "pu = points.astype(int)\n",
    "indexes = np.unique(pu, axis=0, return_index=True)[1]\n",
    "pts = np.array([pu[index] for index in sorted(indexes)])\n",
    "pts.shape"
   ]
  },
  {
   "cell_type": "code",
   "execution_count": null,
   "id": "1e159eaa",
   "metadata": {},
   "outputs": [],
   "source": [
    "new_len = 20\n",
    "tck, u = splprep(pts.T, u=None, s=0.0, per=1) \n",
    "u_new = np.linspace(u.min(), u.max(), new_len)\n",
    "x_new, y_new = splev(u_new, tck, der=0)\n",
    "\n",
    "#plt.plot(pts[:,0], pts[:,1], 'ro')\n",
    "plt.plot(x_new, y_new, 'b--')\n",
    "plt.show()"
   ]
  },
  {
   "cell_type": "code",
   "execution_count": null,
   "id": "21e234a8",
   "metadata": {},
   "outputs": [],
   "source": [
    "print(x_new.shape)\n",
    "print(y_new.shape)\n",
    "new_pts = np.array([x_new,y_new]).reshape(new_len, 2)\n",
    "print(new_pts.shape)"
   ]
  }
 ],
 "metadata": {
  "kernelspec": {
   "display_name": "Python 3",
   "language": "python",
   "name": "python3"
  },
  "language_info": {
   "codemirror_mode": {
    "name": "ipython",
    "version": 3
   },
   "file_extension": ".py",
   "mimetype": "text/x-python",
   "name": "python",
   "nbconvert_exporter": "python",
   "pygments_lexer": "ipython3",
   "version": "3.8.5"
  }
 },
 "nbformat": 4,
 "nbformat_minor": 5
}
