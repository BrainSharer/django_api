{
 "cells": [
  {
   "cell_type": "code",
   "execution_count": null,
   "id": "bdf185d3",
   "metadata": {},
   "outputs": [],
   "source": [
    "import os\n",
    "import sys\n",
    "import numpy as np\n",
    "import k3d\n",
    "import numpy as np\n",
    "import cv2\n",
    "from skimage.filters import gaussian\n",
    "from scipy.interpolate import splev, splprep"
   ]
  },
  {
   "cell_type": "code",
   "execution_count": null,
   "id": "4aca03b8",
   "metadata": {},
   "outputs": [],
   "source": [
    "HOME = os.path.expanduser(\"~\")\n",
    "PATH = os.path.join(HOME, 'programming/brainsharer/django_api')\n",
    "sys.path.append(PATH)\n",
    "os.environ[\"DJANGO_ALLOW_ASYNC_UNSAFE\"] = \"true\"\n",
    "os.environ.setdefault(\"DJANGO_SETTINGS_MODULE\", \"brainsharer.settings\")\n",
    "import django\n",
    "django.setup()"
   ]
  },
  {
   "cell_type": "code",
   "execution_count": null,
   "id": "0545fa4b-ec54-4840-a2aa-f533b607146c",
   "metadata": {},
   "outputs": [],
   "source": [
    "from neuroglancer.models import AnnotationSession\n",
    "from brain.models import ScanRun, Section\n",
    "from neuroglancer.annotation_session_manager import create_polygons"
   ]
  },
  {
   "cell_type": "code",
   "execution_count": null,
   "id": "21a78f83-b5f3-4b78-aa36-67a015a598af",
   "metadata": {},
   "outputs": [],
   "source": [
    "def create_volume(polygons, width, height, z_length):\n",
    "    color = 1\n",
    "    volume = np.zeros((height, width, z_length), dtype=np.float64)\n",
    "    print(f'volume shape: {volume.shape}')\n",
    "\n",
    "    for z, points in polygons.items():\n",
    "        #points = interpolate2d(points, 100)\n",
    "        points = np.array(points)  - origin[:2]\n",
    "        points = (points).astype(np.int32)\n",
    "        volume_slice = np.zeros((height, width), dtype=np.uint8)\n",
    "        volume_slice = cv2.polylines(volume_slice, [points], isClosed=True, color=color, thickness=1)\n",
    "        volume_slice = cv2.fillPoly(volume_slice, pts = [points], color = color)\n",
    "        volume[..., z] += volume_slice\n",
    "    volume = np.swapaxes(volume, 0, 1)\n",
    "    #volume = cv2.GaussianBlur(volume, (3,3), 1)\n",
    "    #volume = gaussian(volume, 1, truncate=2)\n",
    "    return volume.astype(np.uint8)\n",
    "\n",
    "def create_volumeXXX(polygons, origin, section_size):\n",
    "    volume = []\n",
    "    color = 1\n",
    "    for _, points in polygons.items():\n",
    "        points = interpolate2d(points, len(points) * 2)\n",
    "        # subtract origin so the array starts drawing in the upper top left\n",
    "        points = np.array(points) - origin[:2]\n",
    "        points = (points).astype(np.int32)\n",
    "        volume_slice = np.zeros(section_size, dtype=np.uint8)\n",
    "        volume_slice = cv2.polylines(volume_slice, [points], isClosed=True, color=color, thickness=1)\n",
    "        volume_slice = cv2.fillPoly(volume_slice, pts=[points], color=color)\n",
    "        volume.append(volume_slice)\n",
    "    volume = np.array(volume).astype(np.float32)\n",
    "    volume = np.swapaxes(volume,0,2)\n",
    "    volume = gaussian(volume, 1, truncate=2)\n",
    "    return volume\n",
    "\n",
    "def get_origin_and_section_size(structure_contours):\n",
    "    \"\"\"Gets the origin and section size\n",
    "    Set the pad to make sure we get all the volume\n",
    "    \"\"\"\n",
    "    section_mins = []\n",
    "    section_maxs = []\n",
    "    for _, contour_points in structure_contours.items():\n",
    "        contour_points = np.array(contour_points)\n",
    "        section_mins.append(np.min(contour_points, axis=0))\n",
    "        section_maxs.append(np.max(contour_points, axis=0))\n",
    "    min_z = min([int(i) for i in structure_contours.keys()])\n",
    "    min_x, min_y = np.min(section_mins, axis=0)\n",
    "    max_x, max_y = np.max(section_maxs, axis=0)\n",
    "\n",
    "    xspan = max_x - min_x\n",
    "    yspan = max_y - min_y\n",
    "    origin = np.array([min_x, min_y, min_z])\n",
    "    # flipped yspan and xspan 19 Oct 2023\n",
    "    section_size = np.array([yspan, xspan]).astype(int)\n",
    "    return origin, section_size\n",
    "\n",
    "\n",
    "def interpolate2d(points, new_len):\n",
    "    \"\"\"Interpolates a list of tuples to the specified length. The points param\n",
    "    must be a list of tuples in 2d\n",
    "    \n",
    "    :param points: list of floats\n",
    "    :param new_len: integer you want to interpolate to. This will be the new length of the array\n",
    "    There can't be any consecutive identical points or an error will be thrown\n",
    "    unique_rows = np.unique(original_array, axis=0)\n",
    "    \"\"\"\n",
    "\n",
    "    pu = np.array(points, dtype=np.float64)\n",
    "    indexes = np.unique(pu, axis=0, return_index=True)[1]\n",
    "    points = np.array([points[index] for index in sorted(indexes)])\n",
    "\n",
    "    tck, u = splprep(points.T, u=None, s=3, per=1)\n",
    "    u_new = np.linspace(u.min(), u.max(), new_len)\n",
    "    x_array, y_array = splev(u_new, tck, der=0)\n",
    "    arr_2d = np.concatenate([x_array[:, None], y_array[:, None]], axis=1)\n",
    "    return arr_2d\n"
   ]
  },
  {
   "cell_type": "code",
   "execution_count": null,
   "id": "f1b19834",
   "metadata": {
    "scrolled": true
   },
   "outputs": [],
   "source": [
    "# Full data structures look much better.\n",
    "session_id = 3193\n",
    "annotationSession = AnnotationSession.objects.get(pk=session_id)\n",
    "scan_run = ScanRun.objects.get(prep=annotationSession.animal)\n",
    "\n",
    "downsample_factor = 64\n",
    "width = int(scan_run.width) // downsample_factor\n",
    "height = int(scan_run.height) // downsample_factor\n",
    "files = os.listdir(f\"/net/birdstore/Active_Atlas_Data/data_root/pipeline_data/{annotationSession.animal}/preps/C1/thumbnail\")\n",
    "z_length = len(files)\n",
    "\n",
    "polygons = create_polygons(annotationSession.annotation, scan_run.resolution, scan_run.zresolution, downsample_factor)\n",
    "origin, section_size = get_origin_and_section_size(polygons)\n",
    "print(f'origin={origin} section size={section_size}')\n",
    "print(width, height, z_length)\n"
   ]
  },
  {
   "cell_type": "code",
   "execution_count": null,
   "id": "617cddd0-671f-47f5-97d1-4bd82e72e6c0",
   "metadata": {},
   "outputs": [],
   "source": [
    "#volume = create_volume(polygons, origin, section_size)\n",
    "volume = create_volume(polygons, width, height, z_length)\n",
    "print(f'volume shape={volume.shape} dtype={volume.dtype}')"
   ]
  },
  {
   "cell_type": "code",
   "execution_count": null,
   "id": "056281b9",
   "metadata": {},
   "outputs": [],
   "source": [
    "plot = k3d.plot(background_color=255, grid_visible=False, lighting=0)\n",
    "plot += k3d.volume(\n",
    "    volume=volume.astype(np.float32),\n",
    "    alpha_coef=1.0\n",
    ")\n",
    "plot.display()"
   ]
  }
 ],
 "metadata": {
  "kernelspec": {
   "display_name": "Python 3 (ipykernel)",
   "language": "python",
   "name": "python3"
  },
  "language_info": {
   "codemirror_mode": {
    "name": "ipython",
    "version": 3
   },
   "file_extension": ".py",
   "mimetype": "text/x-python",
   "name": "python",
   "nbconvert_exporter": "python",
   "pygments_lexer": "ipython3",
   "version": "3.10.12"
  }
 },
 "nbformat": 4,
 "nbformat_minor": 5
}
