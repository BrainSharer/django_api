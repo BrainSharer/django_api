{
 "cells": [
  {
   "cell_type": "code",
   "execution_count": 1,
   "metadata": {},
   "outputs": [],
   "source": [
    "import math, os, sys\n",
    "import json\n",
    "import ast\n",
    "import plotly.express as px\n",
    "import pandas as pd\n",
    "from datetime import datetime\n",
    "sys.path.append('/home/eddyod/programming/activebrainatlas')\n",
    "os.environ[\"DJANGO_ALLOW_ASYNC_UNSAFE\"] = \"true\"\n",
    "os.environ.setdefault(\"DJANGO_SETTINGS_MODULE\", \"activebrainatlas.settings\")\n",
    "import django\n",
    "django.setup()"
   ]
  },
  {
   "cell_type": "code",
   "execution_count": 3,
   "metadata": {},
   "outputs": [],
   "source": [
    "HOME = os.path.expanduser(\"~\")\n",
    "PATH = os.path.join(HOME, 'programming/pipeline_utility')\n",
    "sys.path.append(PATH)\n",
    "#from utilities.utilities_affine import align_atlas"
   ]
  },
  {
   "cell_type": "code",
   "execution_count": 4,
   "metadata": {},
   "outputs": [],
   "source": [
    "from neuroglancer.models import UrlModel, LayerData, CenterOfMass, Structure\n",
    "from brain.models import Animal"
   ]
  },
  {
   "cell_type": "code",
   "execution_count": null,
   "metadata": {},
   "outputs": [],
   "source": [
    "prep_id = 'DK52'\n",
    "row_dict = {}\n",
    "rows = CenterOfMass.objects.filter(prep__prep_id=prep_id).filter(structure=1) \\\n",
    ".filter(active=True).order_by('structure', 'updated')\n",
    "for row in rows:\n",
    "    structure = row.structure.abbreviation\n",
    "    row_dict[structure] = [row.x, row.y, row.section, row.updated, row.person_id]\n",
    "    print(f'{structure}\\t {row.x}\\t {row.y}\\t{row.section}\\t{row.updated}\\t {row.person_id}')\n",
    "row_dict['10N_L']"
   ]
  },
  {
   "cell_type": "code",
   "execution_count": null,
   "metadata": {},
   "outputs": [],
   "source": [
    "id = 210\n",
    "urlModel = UrlModel.objects.get(pk=id)\n",
    "prep_id = urlModel.animal\n",
    "prep = Animal.objects.get(pk=prep_id)"
   ]
  },
  {
   "cell_type": "code",
   "execution_count": null,
   "metadata": {},
   "outputs": [],
   "source": [
    "urlModel.person.id"
   ]
  },
  {
   "cell_type": "code",
   "execution_count": null,
   "metadata": {},
   "outputs": [],
   "source": [
    "myjson = '{\"f\":\"sdfsdfsdf\"}'\n",
    "try:\n",
    "    json_object = json.loads(myjson)\n",
    "except ValueError as e:\n",
    "    print(f'crap {e}')\n",
    "print(json_object)\n"
   ]
  },
  {
   "cell_type": "code",
   "execution_count": null,
   "metadata": {},
   "outputs": [],
   "source": [
    "json_txt = json.loads(urlModel.url)\n",
    "layers = {}\n",
    "if 'layers' in json_txt:\n",
    "    layers = json_txt['layers']"
   ]
  },
  {
   "cell_type": "code",
   "execution_count": null,
   "metadata": {},
   "outputs": [],
   "source": [
    "for layer in layers:\n",
    "    if 'annotations' in layer:\n",
    "        annotation = layer['annotations']\n",
    "        d = [row['point'] for row in annotation]\n",
    "        print(d)\n"
   ]
  },
  {
   "cell_type": "code",
   "execution_count": null,
   "metadata": {},
   "outputs": [],
   "source": [
    "layers = {}\n",
    "json_txt = json.loads(urlModel.url)\n",
    "if 'layers' in json_txt:\n",
    "    layers = json_txt['layers']\n",
    "    for layer in layers:\n",
    "        if 'annotations' in layer:\n",
    "            lname = layer['name']\n",
    "            if 'com' in lname.lower():\n",
    "                annotation = layer['annotations']\n",
    "                for com in annotation:\n",
    "                    x = com['point'][0]\n",
    "                    y = com['point'][1]\n",
    "                    z = com['point'][2]\n",
    "                    if 'description' in com:\n",
    "                        abbreviation = com['description']\n",
    "\n",
    "                        structure = Structure.objects.get(abbreviation=abbreviation)\n",
    "                        prep = Animal.objects.get(prep_id=urlModel.animal)\n",
    "                        centerOfMass = CenterOfMass(prep=prep, structure=structure,x=x,y=y,section=z,active=True,created=datetime.now())\n",
    "                        print(centerOfMass.prep.prep_id, abbreviation,structure.abbreviation,x,y,z,centerOfMass.created)\n",
    "                        #centerOfMass.save()\n"
   ]
  },
  {
   "cell_type": "code",
   "execution_count": null,
   "metadata": {},
   "outputs": [],
   "source": [
    "reference_centers"
   ]
  },
  {
   "cell_type": "code",
   "execution_count": null,
   "metadata": {},
   "outputs": [],
   "source": [
    "R, t = align_atlas(reference_centers, reference_scales=(0.325, 0.325, 20))"
   ]
  },
  {
   "cell_type": "code",
   "execution_count": null,
   "metadata": {},
   "outputs": [],
   "source": [
    "df = pd.DataFrame(reference_centers.values(), columns=['X', 'Y', 'Section'])\n",
    "df.head()\n",
    "fig = px.scatter_3d(df, x='X', y='Y', z='Section',\n",
    "              color='Section', opacity=0.7)\n",
    "fig.update_layout(margin=dict(l=0, r=0, b=0, t=0))\n",
    "fig.show()"
   ]
  },
  {
   "cell_type": "code",
   "execution_count": null,
   "metadata": {},
   "outputs": [],
   "source": [
    "#print(R)\n",
    "#print(t)\n",
    "rl = R. tolist()\n",
    "tl = t.tolist()\n",
    "data = {}\n",
    "data['transformation'] = rl\n",
    "data['translation'] = tl\n",
    "print(rl_json_str)\n",
    "print()\n",
    "print(tl_json_str)"
   ]
  },
  {
   "cell_type": "code",
   "execution_count": 20,
   "metadata": {},
   "outputs": [
    {
     "data": {
      "text/plain": [
       "<QuerySet [{'prep': 'Atlas'}, {'prep': 'DK39'}, {'prep': 'DK43'}, {'prep': 'DK52'}, {'prep': 'DK52'}, {'prep': 'DK52'}, {'prep': 'DK54'}, {'prep': 'MD589'}]>"
      ]
     },
     "execution_count": 20,
     "metadata": {},
     "output_type": "execute_result"
    }
   ],
   "source": [
    "coms = CenterOfMass.objects.order_by('prep','person_id','input_type').values('prep').distinct()\n",
    "coms"
   ]
  }
 ],
 "metadata": {
  "kernelspec": {
   "display_name": "Django Shell-Plus",
   "language": "python",
   "name": "django_extensions"
  },
  "language_info": {
   "codemirror_mode": {
    "name": "ipython",
    "version": 3
   },
   "file_extension": ".py",
   "mimetype": "text/x-python",
   "name": "python",
   "nbconvert_exporter": "python",
   "pygments_lexer": "ipython3",
   "version": "3.6.13"
  }
 },
 "nbformat": 4,
 "nbformat_minor": 4
}
