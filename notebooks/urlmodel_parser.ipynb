{
 "cells": [
  {
   "cell_type": "code",
   "execution_count": 1,
   "metadata": {},
   "outputs": [],
   "source": [
    "import math, os, sys\n",
    "import json\n",
    "import ast\n",
    "import plotly.express as px\n",
    "import pandas as pd\n",
    "from datetime import datetime\n",
    "sys.path.append('/home/eddyod/programming/brainsharer/django_api')\n",
    "os.environ[\"DJANGO_ALLOW_ASYNC_UNSAFE\"] = \"true\"\n",
    "os.environ.setdefault(\"DJANGO_SETTINGS_MODULE\", \"brainsharer.settings\")\n",
    "import django\n",
    "django.setup()"
   ]
  },
  {
   "cell_type": "code",
   "execution_count": 2,
   "metadata": {},
   "outputs": [],
   "source": [
    "from neuroglancer.create_state_views import NeuroglancerJSONStateManager"
   ]
  },
  {
   "cell_type": "code",
   "execution_count": 3,
   "metadata": {},
   "outputs": [],
   "source": [
    "stateManager = NeuroglancerJSONStateManager()"
   ]
  },
  {
   "cell_type": "code",
   "execution_count": 13,
   "metadata": {},
   "outputs": [
    {
     "name": "stdout",
     "output_type": "stream",
     "text": [
      "[30000, 17500, 225]\n"
     ]
    }
   ],
   "source": [
    "width = 60000\n",
    "height = 35000\n",
    "depth = 450\n",
    "resolution = 0.325\n",
    "#resolution = 10.4\n",
    "scaling_factor = 32\n",
    "crossSectionScale = 1\n",
    "if resolution < 5: \n",
    "    scaling_factor = 1\n",
    "    crossSectionScale = 60\n",
    "\n",
    "position = [width // 2 // scaling_factor, height // 2 // scaling_factor, depth // 2]\n",
    "print(position)"
   ]
  },
  {
   "cell_type": "code",
   "execution_count": null,
   "metadata": {},
   "outputs": [],
   "source": [
    "def find_values(id, json_repr):\n",
    "    results = []\n",
    "    def _decode_dict(a_dict):\n",
    "        try:\n",
    "            results.append(a_dict[id])\n",
    "        except KeyError:\n",
    "            pass\n",
    "        return a_dict\n",
    "\n",
    "    json.loads(json_repr, object_hook=_decode_dict) # Return value ignored.\n",
    "    return results"
   ]
  },
  {
   "cell_type": "code",
   "execution_count": null,
   "metadata": {},
   "outputs": [],
   "source": [
    "id = 211\n",
    "id = 214\n",
    "urlModel = UrlModel.objects.get(pk=id)\n",
    "prep_id = urlModel.animal\n",
    "prep = Animal.objects.get(pk=prep_id)"
   ]
  },
  {
   "cell_type": "code",
   "execution_count": null,
   "metadata": {},
   "outputs": [],
   "source": [
    "prep.prep_id"
   ]
  },
  {
   "cell_type": "code",
   "execution_count": null,
   "metadata": {},
   "outputs": [],
   "source": [
    "point_data = find_values('annotations', urlModel.url)"
   ]
  },
  {
   "cell_type": "code",
   "execution_count": null,
   "metadata": {},
   "outputs": [],
   "source": [
    "json_txt = json.loads(urlModel.url)\n",
    "layers = json_txt['layers']"
   ]
  },
  {
   "cell_type": "code",
   "execution_count": null,
   "metadata": {},
   "outputs": [],
   "source": [
    "for layer in layers:\n",
    "    if 'annotations' in layer:\n",
    "        annotation = layer['annotations']\n",
    "        d = [row['point'] for row in annotation]\n",
    "        if 'com' in annotation:\n",
    "            print(annotation)\n"
   ]
  },
  {
   "cell_type": "code",
   "execution_count": null,
   "metadata": {},
   "outputs": [],
   "source": [
    "id = 211\n",
    "id = 214\n",
    "urlModel = UrlModel.objects.get(pk=id)\n",
    "\n",
    "result = None\n",
    "dfs = []\n",
    "description = None\n",
    "json_txt = json.loads(urlModel.url)\n",
    "layers = json_txt['layers']\n",
    "for layer in layers:\n",
    "    if 'annotations' in layer:\n",
    "        name = layer['name']\n",
    "        annotation = layer['annotations']\n",
    "        d = [row['point'] for row in annotation]\n",
    "        df = pd.DataFrame(d, columns=['X', 'Y', 'Section'])\n",
    "        df['X'] = df['X'].astype(int)\n",
    "        df['Y'] = df['Y'].astype(int)\n",
    "        df['Section'] = df['Section'].astype(int)\n",
    "        df['Layer'] = name\n",
    "        structures = [row['description'] for row in annotation if 'description' in row]\n",
    "        if len(structures) != len(df):\n",
    "            structures = ['' for row in annotation]\n",
    "        df['Description'] = structures\n",
    "        df = df[['Layer', 'Description', 'X', 'Y', 'Section']]\n",
    "        dfs.append(df)\n",
    "if len(dfs) == 0:\n",
    "    result = None\n",
    "elif len(dfs) == 1:\n",
    "    result = dfs[0]\n",
    "else:\n",
    "    result = pd.concat(dfs)\n",
    "result.head()"
   ]
  },
  {
   "cell_type": "code",
   "execution_count": null,
   "metadata": {},
   "outputs": [],
   "source": [
    "structure = Structure.objects.get(abbreviation='Pn')\n",
    "print(structure.id)"
   ]
  },
  {
   "cell_type": "code",
   "execution_count": null,
   "metadata": {},
   "outputs": [],
   "source": [
    "reference_centers = sql_controller.get_centers_dict(prep.prep_id)\n",
    "atlas_box_size=(2010,1490,  447)\n",
    "align_atlas(reference_centers, reference_scales=(0.00001, 0.00001, 20))"
   ]
  },
  {
   "cell_type": "code",
   "execution_count": null,
   "metadata": {},
   "outputs": [],
   "source": [
    "#df = px.data.iris()\n",
    "fig = px.scatter_3d(df, x='X', y='Y', z='Section',\n",
    "              color='Section', opacity=0.7)\n",
    "fig.update_layout(margin=dict(l=0, r=0, b=0, t=0))\n",
    "fig.show()"
   ]
  }
 ],
 "metadata": {
  "kernelspec": {
   "display_name": "Django Shell-Plus",
   "language": "python",
   "name": "django_extensions"
  },
  "language_info": {
   "codemirror_mode": {
    "name": "ipython",
    "version": 3
   },
   "file_extension": ".py",
   "mimetype": "text/x-python",
   "name": "python",
   "nbconvert_exporter": "python",
   "pygments_lexer": "ipython3",
   "version": "3.10.6"
  }
 },
 "nbformat": 4,
 "nbformat_minor": 4
}
