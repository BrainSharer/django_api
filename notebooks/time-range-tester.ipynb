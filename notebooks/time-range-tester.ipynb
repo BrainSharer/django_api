{
 "cells": [
  {
   "cell_type": "code",
   "execution_count": 8,
   "metadata": {},
   "outputs": [],
   "source": [
    "import os, sys\n",
    "PWD = os.getenv('PWD')\n",
    "os.chdir(PWD)\n",
    "sys.path.insert(0, os.getenv('PWD'))\n",
    "os.environ.setdefault(\"DJANGO_SETTINGS_MODULE\", \"activebrainatlas.settings\")\n",
    "import django\n",
    "os.environ[\"DJANGO_ALLOW_ASYNC_UNSAFE\"] = \"true\"\n",
    "django.setup()\n",
    "from datetime import datetime, timedelta\n",
    "#from brain.models import RawSection\n",
    "from scheduler.models import Location, Schedule\n",
    "import pytz\n",
    "from pytz import timezone"
   ]
  },
  {
   "cell_type": "code",
   "execution_count": 14,
   "metadata": {},
   "outputs": [],
   "source": [
    "def isScheduleInTimePeriod(startTime, endTime, scheduleTime):\n",
    "    if startTime < endTime:\n",
    "        return scheduleTime >= startTime and scheduleTime <= endTime\n",
    "    else:  # Over midnight\n",
    "        return scheduleTime >= startTime or scheduleTime <= endTime\n",
    "\n",
    "already = set()\n",
    "date_from = datetime.now() - timedelta(days=1)\n",
    "date_to = datetime.now() + timedelta(days=1)\n",
    "\n",
    "#schedules = Schedule.objects.order_by('start_time')\n",
    "schedules = Schedule.objects.filter(start_time__lte=date_to).filter(start_time__gte=date_from).order_by('start_time')"
   ]
  },
  {
   "cell_type": "code",
   "execution_count": 15,
   "metadata": {},
   "outputs": [
    {
     "data": {
      "text/plain": [
       "11"
      ]
     },
     "execution_count": 15,
     "metadata": {},
     "output_type": "execute_result"
    }
   ],
   "source": [
    "len(schedules)"
   ]
  },
  {
   "cell_type": "code",
   "execution_count": 28,
   "metadata": {},
   "outputs": [
    {
     "name": "stdout",
     "output_type": "stream",
     "text": [
      "2020-05-05 09:00:00\n",
      "2020-05-13 13:00:00 2020-05-13 18:00:00 1\n",
      "2020-05-13 13:00:00 2020-05-13 18:00:00 1\n",
      "2020-05-13 13:00:00 2020-05-13 18:00:00 1\n",
      "2020-05-13 13:00:00 2020-05-13 15:00:00 1\n",
      "2020-05-13 13:00:00 2020-05-13 18:00:00 1\n",
      "2020-05-14 08:00:00 2020-05-14 19:00:00 1\n",
      "2020-05-14 08:00:00 2020-05-14 19:00:00 1\n",
      "2020-05-14 08:00:00 2020-05-14 19:00:00 1\n",
      "2020-05-14 08:00:00 2020-05-14 15:00:00 1\n",
      "2020-05-14 10:00:00 2020-05-14 12:00:00 1\n",
      "2020-05-14 10:00:00 2020-05-14 19:00:00 1\n"
     ]
    }
   ],
   "source": [
    "pst = timezone('America/Los_Angeles')\n",
    "b = datetime(2020, 5, 5, 9, 00, 00, 0)\n",
    "tstart = datetime(2020, 5, 5, 9, 00, 00, 0, pytz.UTC)\n",
    "tend = datetime(2020, 5, 5, 10, 00, 00, 0, pytz.UTC)\n",
    "print(b)\n",
    "already = set()\n",
    "for schedule in schedules:\n",
    "    start = schedule.start_time\n",
    "    end = schedule.end_time\n",
    "    people = schedule.location.people_allowed\n",
    "    #start = isScheduleInTimePeriod(schedule.start_time, schedule.end_time, tstart)\n",
    "    #end = isScheduleInTimePeriod(schedule.start_time, schedule.end_time, tend)\n",
    "    print(start, end, people)\n",
    "    if start or end:\n",
    "        already.add(schedule)\n",
    "    #print(schedule.start_time, schedule.end_time, start, end)"
   ]
  },
  {
   "cell_type": "code",
   "execution_count": null,
   "metadata": {},
   "outputs": [],
   "source": [
    "occupied = list(already)"
   ]
  },
  {
   "cell_type": "code",
   "execution_count": null,
   "metadata": {},
   "outputs": [],
   "source": [
    "occupied[0].person.username"
   ]
  }
 ],
 "metadata": {
  "kernelspec": {
   "display_name": "Django Shell-Plus",
   "language": "python",
   "name": "django_extensions"
  },
  "language_info": {
   "codemirror_mode": {
    "name": "ipython",
    "version": 3
   },
   "file_extension": ".py",
   "mimetype": "text/x-python",
   "name": "python",
   "nbconvert_exporter": "python",
   "pygments_lexer": "ipython3",
   "version": "3.8.2"
  }
 },
 "nbformat": 4,
 "nbformat_minor": 4
}
