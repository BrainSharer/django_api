{
 "cells": [
  {
   "cell_type": "code",
   "execution_count": 1,
   "metadata": {},
   "outputs": [],
   "source": [
    "import os\n",
    "from django.db.models import Max\n",
    "#sys.path.append('/home/eddyod/programming/activebrainatlas')\n",
    "from brain.models import Animal, SlideCziToTif, Slide, ScanRun\n",
    "os.environ[\"DJANGO_ALLOW_ASYNC_UNSAFE\"] = \"true\""
   ]
  },
  {
   "cell_type": "code",
   "execution_count": 2,
   "metadata": {},
   "outputs": [],
   "source": [
    "slide_id = 2297\n",
    "obj = Slide.objects.get(pk=slide_id)\n",
    "#slide.insert_before_one = 0\n",
    "#slide.insert_between_one_two = 0\n",
    "#slide.save()\n",
    "scene_count = obj.scenes\n",
    "scenes = range(1,scene_count + 1)\n",
    "scenes_tifs = [SlideCziToTif.objects.filter(slide_id=slide_id).filter(active=True).filter(scene_number=scene) for scene in\n",
    "                   scenes]"
   ]
  },
  {
   "cell_type": "code",
   "execution_count": 3,
   "metadata": {},
   "outputs": [],
   "source": [
    "OUTOFFOCUS = 1\n",
    "BADTISSUE = 2\n",
    "END = 3\n",
    "OK = 0\n",
    "\n",
    "qc_1 = 0\n",
    "qc_2 = 0\n",
    "qc_3 = 0\n",
    "qc_4 = 0\n",
    "qc_5 = 0\n",
    "qc_6 = 0\n",
    "insert_values = [4,0,0,1,0,0]"
   ]
  },
  {
   "cell_type": "code",
   "execution_count": 4,
   "metadata": {},
   "outputs": [
    {
     "data": {
      "text/plain": [
       "(0, 0, 0, 0, 0, 0)"
      ]
     },
     "execution_count": 4,
     "metadata": {},
     "output_type": "execute_result"
    }
   ],
   "source": [
    "current_values = Slide.objects.values_list('insert_before_one', 'insert_between_one_two', 'insert_between_two_three', \\\n",
    "                  'insert_between_three_four', 'insert_between_four_five', 'insert_between_five_six').get(pk=slide_id)\n",
    "current_values"
   ]
  },
  {
   "cell_type": "code",
   "execution_count": 5,
   "metadata": {},
   "outputs": [],
   "source": [
    "# helper methods for the slide admin form\n",
    "\n",
    "def repeat_scene(slide_id, inserts, scene_number):\n",
    "    print(slide_id, inserts, scene_number)\n",
    "    tifs = SlideCziToTif.objects.filter(slide_id=slide_id).filter(active=True) \\\n",
    "        .filter(scene_number=scene_number)\n",
    "\n",
    "    if not tifs:\n",
    "        tifs = find_closest_neighbor(slide_id, scene_number)\n",
    "        \n",
    "    for insert in range(inserts):\n",
    "        create_scene(tifs, scene_number)\n",
    "\n",
    "def create_scene(tifs, scene_number):            \n",
    "    for tif in tifs:  #\n",
    "        newtif = tif\n",
    "        newtif.active = True\n",
    "        newtif.pk = None\n",
    "        newtif.scene_number = scene_number\n",
    "        newtif.save()\n",
    "            \n",
    "\n",
    "def find_closest_neighbor(slide_id, scene_number):\n",
    "    channels = SlideCziToTif.objects.filter(slide_id=slide_id).filter(active=True).aggregate(Max('channel'))\n",
    "    channels = channels['channel__max']\n",
    "    tifs = None\n",
    "    below = SlideCziToTif.objects.filter(slide_id=slide_id).filter(active=True) \\\n",
    "                .filter(scene_number__lt=scene_number).order_by('-scene_number')[:channels]\n",
    "\n",
    "    above = SlideCziToTif.objects.filter(slide_id=slide_id).filter(active=True) \\\n",
    "                .filter(scene_number__gt=scene_number).order_by('scene_number')[:channels]\n",
    "    if below.exists():\n",
    "        tifs = below\n",
    "    else:\n",
    "        tifs = above\n",
    "    \n",
    "    return tifs\n",
    "\n",
    "\n",
    "def set_scene_inactive(slide_id, scene_number):\n",
    "    tifs = SlideCziToTif.objects.filter(slide_id=slide_id).filter(active=True).filter(scene_number=scene_number)\n",
    "    for tif in tifs:\n",
    "        tif.active = False\n",
    "        tif.save()\n",
    "\n",
    "\n",
    "def set_end(slide_id, scene_number):\n",
    "    tifs = SlideCziToTif.objects.filter(slide_id=slide_id).filter(scene_number__gte=scene_number)\n",
    "    for tif in tifs:\n",
    "        tif.active = False\n",
    "        tif.save()\n",
    "        \n",
    "\n",
    "def scene_reorder(slide_id):\n",
    "    # now get the order of scenes correct\n",
    "    scenes_tifs = SlideCziToTif.objects.filter(slide_id=slide_id).filter(active=1).order_by('scene_number')\n",
    "    channels = scenes_tifs.aggregate(Max('channel'))\n",
    "    channels = channels['channel__max']\n",
    "    len_tifs = len(scenes_tifs) + 1\n",
    "    flattened = [item for sublist in [[i] * channels for i in range(1, len_tifs)] for item in sublist]\n",
    "\n",
    "    for new_scene, tif in zip(flattened, scenes_tifs):  # iterate over the scenes\n",
    "        tif.scene_number = new_scene\n",
    "        tif.save()"
   ]
  },
  {
   "cell_type": "code",
   "execution_count": 6,
   "metadata": {
    "scrolled": true
   },
   "outputs": [
    {
     "name": "stdout",
     "output_type": "stream",
     "text": [
      "Before fixing\n",
      "Only active\n",
      "1 DK39_slide017_2020_01_02_S1_C1.tif 1 True\n",
      "2 DK39_slide017_2020_01_02_S2_C1.tif 2 True\n",
      "3 DK39_slide017_2020_01_02_S3_C1.tif 3 True\n"
     ]
    }
   ],
   "source": [
    "## test and print\n",
    "print('Before fixing')\n",
    "print('Only active')\n",
    "tifs = SlideCziToTif.objects.filter(slide_id=slide_id).filter(active=True).filter(channel=1).order_by('scene_number')\n",
    "i = 1\n",
    "for tif in tifs: # iterate over the scenes\n",
    "    print(i, tif.file_name, tif.scene_number, tif.active)\n",
    "    i += 1"
   ]
  },
  {
   "cell_type": "code",
   "execution_count": 7,
   "metadata": {},
   "outputs": [],
   "source": [
    "# fix qc\n",
    "qc_values = [qc_1, qc_2, qc_3, qc_4, qc_5, qc_6]\n",
    "scene_numbers = [1,2,3,4,5,6]\n",
    "current_qcs = Slide.objects.values_list('scene_qc_1', 'scene_qc_2','scene_qc_3', \\\n",
    "                                                   'scene_qc_4', 'scene_qc_5',\n",
    "                                                   'scene_qc_6').get(pk=obj.id)\n",
    "\n",
    "for qc_value, current_qc, scene_number  in zip(qc_values, current_qcs, scene_numbers):\n",
    "    if qc_value in [OUTOFFOCUS, BADTISSUE] and qc_value != current_qc:\n",
    "        print('setting inactive')\n",
    "        set_scene_inactive(obj.id, scene_number)\n",
    "\n",
    "for qc_value, current_qc, scene_number in zip(qc_values, current_qcs, scene_numbers):\n",
    "    if qc_value in [OUTOFFOCUS, BADTISSUE] and qc_value != current_qc:\n",
    "        print('setting nearest ne')\n",
    "        tifs = find_closest_neighbor(obj.id, scene_number)\n",
    "        create_scene(tifs, scene_number)\n",
    "\n",
    "for qc_value, current_qc, scene_number in zip(qc_values,current_qcs, scene_numbers):\n",
    "    if qc_value == END and qc_value != current_qc:\n",
    "        set_end(obj.id, scene_number)\n"
   ]
  },
  {
   "cell_type": "code",
   "execution_count": 8,
   "metadata": {},
   "outputs": [
    {
     "name": "stdout",
     "output_type": "stream",
     "text": [
      "2297 4 1\n",
      "2297 1 4\n"
     ]
    }
   ],
   "source": [
    "scene_numbers = [1,2,3,4,5,6]\n",
    "# do inserts\n",
    "form_names = ['insert_before_one', 'insert_between_one_two', 'insert_between_two_three', \\\n",
    "              'insert_between_three_four', 'insert_between_four_five', 'insert_between_five_six']\n",
    "#insert_values = [form.cleaned_data.get(name) for name in form_names]\n",
    "moves = sum([value for value in insert_values])\n",
    "scene_count = obj.scenes\n",
    "scenes = range(1, scene_count + 1)\n",
    "\n",
    "if moves > 0:\n",
    "\n",
    "    current_values = Slide.objects.values_list('insert_before_one', 'insert_between_one_two',\n",
    "                                               'insert_between_two_three', \\\n",
    "                                               'insert_between_three_four', 'insert_between_four_five',\n",
    "                                               'insert_between_five_six').get(pk=obj.id)\n",
    "\n",
    "    for new, current, scene_number in zip(insert_values, current_values, scene_numbers):\n",
    "        if current != new:\n",
    "            repeat_scene(obj.id, new, scene_number)\n",
    "    scene_reorder(obj.id)"
   ]
  },
  {
   "cell_type": "code",
   "execution_count": 9,
   "metadata": {
    "scrolled": true
   },
   "outputs": [
    {
     "name": "stdout",
     "output_type": "stream",
     "text": [
      "\n",
      "After fixing\n",
      "1 DK39_slide017_2020_01_02_S1_C1.tif 1 True\n",
      "2 DK39_slide017_2020_01_02_S1_C1.tif 2 True\n",
      "3 DK39_slide017_2020_01_02_S1_C1.tif 3 True\n",
      "4 DK39_slide017_2020_01_02_S1_C1.tif 4 True\n",
      "5 DK39_slide017_2020_01_02_S1_C1.tif 5 True\n",
      "6 DK39_slide017_2020_01_02_S2_C1.tif 6 True\n",
      "7 DK39_slide017_2020_01_02_S3_C1.tif 7 True\n",
      "8 DK39_slide017_2020_01_02_S3_C1.tif 8 True\n"
     ]
    }
   ],
   "source": [
    "## test and print\n",
    "print('\\nAfter fixing')\n",
    "tifs = SlideCziToTif.objects.filter(slide_id=slide_id).filter(channel=1).order_by('active', 'scene_number')\n",
    "count = SlideCziToTif.objects.filter(slide_id=slide_id).count()\n",
    "assert count == len(tifs) * 3\n",
    "i = 1\n",
    "for tif in tifs: # iterate over the scenes\n",
    "    print(i, tif.file_name, tif.scene_number, tif.active)\n",
    "    i += 1"
   ]
  }
 ],
 "metadata": {
  "kernelspec": {
   "display_name": "Django Shell-Plus",
   "language": "python",
   "name": "django_extensions"
  },
  "language_info": {
   "codemirror_mode": {
    "name": "ipython",
    "version": 3
   },
   "file_extension": ".py",
   "mimetype": "text/x-python",
   "name": "python",
   "nbconvert_exporter": "python",
   "pygments_lexer": "ipython3",
   "version": "3.7.3"
  }
 },
 "nbformat": 4,
 "nbformat_minor": 4
}
