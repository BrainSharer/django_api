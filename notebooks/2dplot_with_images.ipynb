{
 "cells": [
  {
   "cell_type": "code",
   "execution_count": 1,
   "metadata": {},
   "outputs": [],
   "source": [
    "import math, os, sys\n",
    "import json\n",
    "import plotly.express as px\n",
    "import plotly.graph_objects as go\n",
    "import pandas as pd\n",
    "import numpy as np\n",
    "import plotly.offline as py\n",
    "from pathlib import Path\n",
    "from datetime import datetime\n",
    "from ipywidgets import interactive, HBox, VBox\n",
    "from ipywidgets import widgets\n",
    "#py.init_notebook_mode()\n",
    "\n",
    "sys.path.append('/home/eddyod/programming/activebrainatlas')\n",
    "os.environ[\"DJANGO_ALLOW_ASYNC_UNSAFE\"] = \"true\"\n",
    "os.environ.setdefault(\"DJANGO_SETTINGS_MODULE\", \"activebrainatlas.settings\")\n",
    "import django\n",
    "django.setup()"
   ]
  },
  {
   "cell_type": "code",
   "execution_count": 2,
   "metadata": {},
   "outputs": [],
   "source": [
    "from neuroglancer.models import UrlModel, LayerData, CenterOfMass, Structure\n",
    "from brain.models import Animal, ScanRun"
   ]
  },
  {
   "cell_type": "code",
   "execution_count": 11,
   "metadata": {},
   "outputs": [
    {
     "name": "stdout",
     "output_type": "stream",
     "text": [
      "section is  98 60000 38000\n"
     ]
    },
    {
     "data": {
      "application/vnd.jupyter.widget-view+json": {
       "model_id": "91f9f0e526514b26808c54518a85bcad",
       "version_major": 2,
       "version_minor": 0
      },
      "text/plain": [
       "VBox(children=(Dropdown(description='Section:', options=(98,), value=98), VBox(children=(FigureWidget({\n",
       "    'd…"
      ]
     },
     "metadata": {},
     "output_type": "display_data"
    }
   ],
   "source": [
    "pk = 211 # DK54\n",
    "urlModel = UrlModel.objects.get(pk=pk)\n",
    "animal = urlModel.animal\n",
    "scanRun = ScanRun.objects.get(prep_id__exact=animal)\n",
    "df = urlModel.points\n",
    "df = df[(df.Layer == 'PM nucleus') | (df.Layer == 'premotor')]\n",
    "sections = df['Section'].sort_values().unique().tolist()\n",
    "section = df['Section'].min()\n",
    "img_width = scanRun.width\n",
    "img_height = scanRun.height\n",
    "print('section is ', section, img_width, img_height)\n",
    "df = df.loc[ df['Section'] == section]\n",
    "section = str(section).zfill(3)\n",
    "source = f\"https://activebrainatlas.ucsd.edu/data/{animal}/www/{section}.png\"\n",
    "\n",
    "fig = go.FigureWidget([go.Scatter(y = df['Y'], x = df['X'], mode = 'markers')])\n",
    "fig.add_layout_image(\n",
    "        dict(\n",
    "        x=0,\n",
    "        sizex=img_width,\n",
    "        y=-10000,\n",
    "        sizey=img_height,\n",
    "        xref=\"x\",\n",
    "        yref=\"y\",\n",
    "        yanchor=\"top\",\n",
    "        opacity=0.85,\n",
    "        layer=\"below\",\n",
    "        name=\"showme\",\n",
    "        source=source,\n",
    "        sizing=\"contain\")\n",
    ")\n",
    "fig.update_layout(title=urlModel.comments)\n",
    "fig.update_layout(margin=dict(l=0, r=0, b=0, t=0))\n",
    "fig.update_xaxes(range=[0, img_width])\n",
    "fig.update_yaxes(range=[0, img_height],scaleanchor=\"x\")\n",
    "fig.update_layout(template=\"plotly_white\")\n",
    "fig['layout']['yaxis']['autorange'] = \"reversed\"\n",
    "\n",
    "scatter = fig.data[0]\n",
    "\n",
    "scatter.marker.opacity = 1\n",
    "scatter.marker.size = 6\n",
    "scatter.marker.color = 'yellow'\n",
    "\n",
    "section_selector = widgets.Dropdown(\n",
    "    options=list(df['Section'].sort_values().unique()),\n",
    "    value=df['Section'].iloc[0],\n",
    "    description='Section:',\n",
    ")\n",
    "\n",
    "def response(change):\n",
    "    filter_list = [s for s in df['Section'] == section_selector.value]\n",
    "    tmp_df = df[filter_list]\n",
    "        \n",
    "    x = tmp_df['X']\n",
    "    y = tmp_df['Y']\n",
    "    with fig.batch_update():\n",
    "        fig.layout.xaxis.title = \"X\"\n",
    "        fig.layout.yaxis.title = \"Y\"\n",
    "        section = str(section_selector.value).zfill(3)\n",
    "        fig.layout.images[0].source=f\"https://activebrainatlas.ucsd.edu/data/{animal}/www/{section_selector.value}.png\"\n",
    "        scatter.x = x\n",
    "        scatter.y = y\n",
    "    with t.batch_update():\n",
    "        t.layout.title = f\"{len(tmp_df)} points on section {section_selector.value}\"\n",
    "        t.data[0].cells.values = [tmp_df[col] for col in tablecols]\n",
    "\n",
    "section_selector.observe(response, names=\"value\")\n",
    "\n",
    "tablecols = ['Layer', 'X', 'Y', 'Section']\n",
    "t = go.FigureWidget([go.Table(\n",
    "    header=dict(values=tablecols,\n",
    "                fill = dict(color='#C2D4FF'),\n",
    "                align = ['left'] * 5),\n",
    "    cells=dict(values=[df[col] for col in tablecols],\n",
    "               fill = dict(color='#F5F8FF'),\n",
    "               align = ['left'] * 5))])\n",
    "\n",
    "def selection_fn(trace,points,selector):\n",
    "    t.layout.title = f\"You have selected {len(points.point_inds)} points\"\n",
    "    t.data[0].cells.values = [df.loc[points.point_inds][col] for col in tablecols]\n",
    "\n",
    "scatter.on_selection(selection_fn)\n",
    "\n",
    "figure_container = widgets.VBox([fig, t])\n",
    "widgets.VBox([section_selector, figure_container])"
   ]
  },
  {
   "cell_type": "code",
   "execution_count": null,
   "metadata": {},
   "outputs": [],
   "source": [
    "#df2 = pd.read_csv('https://raw.githubusercontent.com/jonmmease/plotly_ipywidget_notebooks/master/notebooks/data/cars/cars.csv')\n",
    "#df2.select_dtypes('int64').columns\n",
    "sections = df['Section'].sort_values().unique().tolist()"
   ]
  },
  {
   "cell_type": "code",
   "execution_count": 33,
   "metadata": {},
   "outputs": [
    {
     "name": "stdout",
     "output_type": "stream",
     "text": [
      "section is  98 60000 38000\n",
      "['premotor']\n"
     ]
    },
    {
     "data": {
      "text/html": [
       "<div>\n",
       "<style scoped>\n",
       "    .dataframe tbody tr th:only-of-type {\n",
       "        vertical-align: middle;\n",
       "    }\n",
       "\n",
       "    .dataframe tbody tr th {\n",
       "        vertical-align: top;\n",
       "    }\n",
       "\n",
       "    .dataframe thead th {\n",
       "        text-align: right;\n",
       "    }\n",
       "</style>\n",
       "<table border=\"1\" class=\"dataframe\">\n",
       "  <thead>\n",
       "    <tr style=\"text-align: right;\">\n",
       "      <th></th>\n",
       "      <th>X</th>\n",
       "      <th>Y</th>\n",
       "      <th>Section</th>\n",
       "    </tr>\n",
       "  </thead>\n",
       "  <tbody>\n",
       "    <tr>\n",
       "      <th>count</th>\n",
       "      <td>17.000000</td>\n",
       "      <td>17.000000</td>\n",
       "      <td>17.000000</td>\n",
       "    </tr>\n",
       "    <tr>\n",
       "      <th>mean</th>\n",
       "      <td>1040.529412</td>\n",
       "      <td>579.117647</td>\n",
       "      <td>106.941176</td>\n",
       "    </tr>\n",
       "    <tr>\n",
       "      <th>std</th>\n",
       "      <td>182.073858</td>\n",
       "      <td>78.316571</td>\n",
       "      <td>4.588989</td>\n",
       "    </tr>\n",
       "    <tr>\n",
       "      <th>min</th>\n",
       "      <td>815.000000</td>\n",
       "      <td>448.000000</td>\n",
       "      <td>98.000000</td>\n",
       "    </tr>\n",
       "    <tr>\n",
       "      <th>25%</th>\n",
       "      <td>839.000000</td>\n",
       "      <td>567.000000</td>\n",
       "      <td>106.000000</td>\n",
       "    </tr>\n",
       "    <tr>\n",
       "      <th>50%</th>\n",
       "      <td>1122.000000</td>\n",
       "      <td>613.000000</td>\n",
       "      <td>110.000000</td>\n",
       "    </tr>\n",
       "    <tr>\n",
       "      <th>75%</th>\n",
       "      <td>1193.000000</td>\n",
       "      <td>634.000000</td>\n",
       "      <td>110.000000</td>\n",
       "    </tr>\n",
       "    <tr>\n",
       "      <th>max</th>\n",
       "      <td>1261.000000</td>\n",
       "      <td>664.000000</td>\n",
       "      <td>114.000000</td>\n",
       "    </tr>\n",
       "  </tbody>\n",
       "</table>\n",
       "</div>"
      ],
      "text/plain": [
       "                 X           Y     Section\n",
       "count    17.000000   17.000000   17.000000\n",
       "mean   1040.529412  579.117647  106.941176\n",
       "std     182.073858   78.316571    4.588989\n",
       "min     815.000000  448.000000   98.000000\n",
       "25%     839.000000  567.000000  106.000000\n",
       "50%    1122.000000  613.000000  110.000000\n",
       "75%    1193.000000  634.000000  110.000000\n",
       "max    1261.000000  664.000000  114.000000"
      ]
     },
     "execution_count": 33,
     "metadata": {},
     "output_type": "execute_result"
    }
   ],
   "source": [
    "pk = 211 # DK54\n",
    "#pk = 200 # DK52\n",
    "urlModel = UrlModel.objects.get(pk=pk)\n",
    "animal = urlModel.animal\n",
    "scanRun = ScanRun.objects.get(prep_id__exact=animal)\n",
    "df = urlModel.points\n",
    "df = df[(df.Layer == 'PM nucleus') | (df.Layer == 'premotor')]\n",
    "sections = df['Section'].sort_values().unique().tolist()\n",
    "#section = 272\n",
    "section = df['Section'].min()\n",
    "img_width = scanRun.width\n",
    "img_height = scanRun.height\n",
    "\n",
    "print('section is ', section, img_width, img_height)\n",
    "print(df['Layer'].unique())\n",
    "df.describe()"
   ]
  },
  {
   "cell_type": "code",
   "execution_count": 40,
   "metadata": {},
   "outputs": [
    {
     "data": {
      "text/plain": [
       "{98: '#000062', 102: '#000066', 106: '#00006A', 110: '#00006E', 114: '#000072'}"
      ]
     },
     "execution_count": 40,
     "metadata": {},
     "output_type": "execute_result"
    }
   ],
   "source": [
    "{k:'#{0:06X}'.format(k) for k in sections}"
   ]
  }
 ],
 "metadata": {
  "kernelspec": {
   "display_name": "Django Shell-Plus",
   "language": "python",
   "name": "django_extensions"
  },
  "language_info": {
   "codemirror_mode": {
    "name": "ipython",
    "version": 3
   },
   "file_extension": ".py",
   "mimetype": "text/x-python",
   "name": "python",
   "nbconvert_exporter": "python",
   "pygments_lexer": "ipython3",
   "version": "3.6.12"
  }
 },
 "nbformat": 4,
 "nbformat_minor": 4
}
