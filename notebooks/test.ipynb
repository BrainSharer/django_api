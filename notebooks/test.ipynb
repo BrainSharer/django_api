{
 "cells": [
  {
   "cell_type": "code",
   "execution_count": 2,
   "metadata": {},
   "outputs": [],
   "source": [
    "import os\n",
    "import sys\n",
    "import numpy as np\n",
    "sys.path.append('/home/eddyod/programming/activebrainatlas')\n",
    "os.environ[\"DJANGO_ALLOW_ASYNC_UNSAFE\"] = \"true\"\n",
    "os.environ.setdefault(\"DJANGO_SETTINGS_MODULE\", \"activebrainatlas.settings\")\n",
    "import django\n",
    "django.setup()"
   ]
  },
  {
   "cell_type": "code",
   "execution_count": 3,
   "metadata": {},
   "outputs": [],
   "source": [
    "from neuroglancer.models import AnnotationSession, BrainRegion\n",
    "from django.contrib.auth.models import User"
   ]
  },
  {
   "cell_type": "code",
   "execution_count": 4,
   "metadata": {},
   "outputs": [],
   "source": [
    "from neuroglancer.models import MarkedCell\n",
    "\n",
    "\n",
    "def get_session1(annotator, animal, brain_region, annotation_type, cell_type, source):\n",
    "    session = None\n",
    "    sessions = AnnotationSession.objects.filter(animal=animal)\\\n",
    "                        .filter(brain_region=brain_region)\\\n",
    "                        .filter(annotator=annotator)\\\n",
    "                        .filter(annotation_type=annotation_type)\\\n",
    "                        .filter(active=True).all()\n",
    "    if annotation_type == 'MARKED_CELL':\n",
    "        cell_types = []\n",
    "        sources = []\n",
    "        ids = []\n",
    "        for i, session in enumerate(sessions):\n",
    "            # print(f'session ID={session.id}')\n",
    "            if session.cell_type is not None and session.source is not None:\n",
    "                cell_types.append(session.cell_type.cell_type)\n",
    "                sources.append(session.source)\n",
    "                ids.append(i)\n",
    "        #print(sources)\n",
    "        if cell_types ==[]:\n",
    "            print('cell types is empty')\n",
    "        right_cell_type_and_source = \\\n",
    "            np.logical_and(np.array(cell_types)==cell_type, np.array(sources)==source)\n",
    "        #print(right_cell_type_and_source)\n",
    "        found = sum(right_cell_type_and_source)\n",
    "        assert found<=1\n",
    "        if found==0:\n",
    "            session = None\n",
    "        else:\n",
    "            session = sessions[ids[int(np.where(right_cell_type_and_source)[0][0])]]\n",
    "    else:\n",
    "        assert len(sessions)==1\n",
    "        session = sessions[0]\n",
    "    return session\n",
    "\n",
    "def get_session2(annotator, animal, brain_region, annotation_type, cell_type, source):\n",
    "    session = None\n",
    "    sessions = AnnotationSession.objects.filter(animal=animal)\\\n",
    "                        .filter(brain_region=brain_region)\\\n",
    "                        .filter(annotator=annotator)\\\n",
    "                        .filter(annotation_type=annotation_type)\\\n",
    "                        .filter(active=True).all()\n",
    "    if annotation_type == 'MARKED_CELL':\n",
    "        marked_cells = MarkedCell.objects.filter(annotation_session__animal=animal)\\\n",
    "                            .filter(annotation_session__brain_region=brain_region)\\\n",
    "                            .filter(annotation_session__annotator=annotator)\\\n",
    "                            .filter(annotation_session__annotation_type=annotation_type)\\\n",
    "                            .filter(annotation_session__active=True)\\\n",
    "                            .filter(cell_type__cell_type=cell_type)\\\n",
    "                            .all()\n",
    "        if source is not None:\n",
    "            marked_cells = marked_cells.filter(source=source)\n",
    "        marked_cell = marked_cells.first()\n",
    "        session = marked_cell.annotation_session\n",
    "        #print(marked_cells.query)\n",
    "    else:\n",
    "        assert len(sessions)==1\n",
    "        session = sessions.first()\n",
    "    return session\n"
   ]
  },
  {
   "cell_type": "code",
   "execution_count": 5,
   "metadata": {},
   "outputs": [
    {
     "name": "stdout",
     "output_type": "stream",
     "text": [
      "version 1 DK41 Point from annotation layer point MARKED_CELL\n",
      "6393\n",
      "version 2 DK41 Point from annotation layer point MARKED_CELL\n",
      "6393\n"
     ]
    }
   ],
   "source": [
    "annotator = User.objects.get(pk=38)\n",
    "animal = 'DK41'\n",
    "brain_region = BrainRegion.objects.get(pk=52)\n",
    "annotation_type = 'MARKED_CELL'\n",
    "cell_type = 'mixed'\n",
    "source = 'HUMAN_NEGATIVE'\n",
    "session = get_session1(annotator, animal, brain_region, annotation_type, cell_type, source)\n",
    "print('version 1', session)\n",
    "if session is not None:\n",
    "    print(session.id)\n",
    "session = get_session2(annotator, animal, brain_region, annotation_type, cell_type, source)\n",
    "print('version 2', session)\n",
    "if session is not None:\n",
    "    print(session.id)"
   ]
  }
 ],
 "metadata": {
  "kernelspec": {
   "display_name": "Python 3.10.6 ('activebrainatlas')",
   "language": "python",
   "name": "python3"
  },
  "language_info": {
   "codemirror_mode": {
    "name": "ipython",
    "version": 3
   },
   "file_extension": ".py",
   "mimetype": "text/x-python",
   "name": "python",
   "nbconvert_exporter": "python",
   "pygments_lexer": "ipython3",
   "version": "3.10.6"
  },
  "orig_nbformat": 4,
  "vscode": {
   "interpreter": {
    "hash": "d6fc81a39f7151122314ac217f982c3f337b5e27d98d98e6c42c6ddffecf64b8"
   }
  }
 },
 "nbformat": 4,
 "nbformat_minor": 2
}
