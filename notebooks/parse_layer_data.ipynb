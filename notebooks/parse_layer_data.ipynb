{
 "cells": [
  {
   "cell_type": "code",
   "execution_count": 1,
   "metadata": {
    "scrolled": true
   },
   "outputs": [],
   "source": [
    "import math, os, sys\n",
    "import json\n",
    "import plotly.express as px\n",
    "import pandas as pd\n",
    "import random\n",
    "from datetime import datetime\n",
    "HOME = os.path.expanduser(\"~\")\n",
    "PATH = os.path.join(HOME, 'programming/activebrainatlas')\n",
    "sys.path.append(PATH)\n",
    "os.environ[\"DJANGO_ALLOW_ASYNC_UNSAFE\"] = \"true\"\n",
    "os.environ.setdefault(\"DJANGO_SETTINGS_MODULE\", \"activebrainatlas.settings\")\n",
    "import django\n",
    "django.setup()"
   ]
  },
  {
   "cell_type": "code",
   "execution_count": 3,
   "metadata": {
    "scrolled": true
   },
   "outputs": [],
   "source": [
    "from neuroglancer.models import UrlModel, BrainRegion\n",
    "from brain.models import Animal"
   ]
  },
  {
   "cell_type": "code",
   "execution_count": 14,
   "metadata": {},
   "outputs": [
    {
     "name": "stdout",
     "output_type": "stream",
     "text": [
      "164 DK52 with PM nucleus annotation Premotor\n"
     ]
    }
   ],
   "source": [
    "urlModel = UrlModel.objects.get(pk=164)\n",
    "json_txt = urlModel.url\n",
    "if 'layers' in json_txt:\n",
    "    layers = json_txt['layers']\n",
    "    for layer in layers:\n",
    "        if 'annotations' in layer and 'name' in layer:\n",
    "            annotation = layer['annotations']\n",
    "            layer_name = layer['name']\n",
    "            if len(annotation) > 0 and annotation[0]['type'] == 'cell':\n",
    "                print(urlModel.id, urlModel.comments, layer_name, annotation[0]['category'])\n"
   ]
  },
  {
   "cell_type": "code",
   "execution_count": 6,
   "metadata": {},
   "outputs": [
    {
     "ename": "TypeError",
     "evalue": "'UrlModel' object is not iterable",
     "output_type": "error",
     "traceback": [
      "\u001b[0;31m---------------------------------------------------------------------------\u001b[0m",
      "\u001b[0;31mTypeError\u001b[0m                                 Traceback (most recent call last)",
      "Cell \u001b[0;32mIn [6], line 2\u001b[0m\n\u001b[1;32m      1\u001b[0m urlModels \u001b[39m=\u001b[39m UrlModel\u001b[39m.\u001b[39mobjects\u001b[39m.\u001b[39mget(pk\u001b[39m=\u001b[39m\u001b[39m164\u001b[39m)\n\u001b[0;32m----> 2\u001b[0m \u001b[39mfor\u001b[39;00m urlModel \u001b[39min\u001b[39;00m urlModels:\n\u001b[1;32m      3\u001b[0m     json_txt \u001b[39m=\u001b[39m urlModel\u001b[39m.\u001b[39murl\n\u001b[1;32m      4\u001b[0m     \u001b[39mif\u001b[39;00m \u001b[39m'\u001b[39m\u001b[39mlayers\u001b[39m\u001b[39m'\u001b[39m \u001b[39min\u001b[39;00m json_txt:\n",
      "\u001b[0;31mTypeError\u001b[0m: 'UrlModel' object is not iterable"
     ]
    }
   ],
   "source": [
    "urlModels = UrlModel.objects.all()\n",
    "for urlModel in urlModels:\n",
    "    json_txt = urlModel.url\n",
    "    if 'layers' in json_txt:\n",
    "        layers = json_txt['layers']\n",
    "        for layer in layers:\n",
    "            if 'annotations' in layer and 'name' in layer:\n",
    "                annotation = layer['annotations']\n",
    "                layer_name = layer['name']\n",
    "                if len(annotation) > 0:\n",
    "                    print(urlModel.id, urlModel.comments, layer_name, annotation)\n",
    "                "
   ]
  },
  {
   "cell_type": "code",
   "execution_count": null,
   "metadata": {},
   "outputs": [],
   "source": [
    "for layer in layer_keys:\n",
    "    print(layer)"
   ]
  },
  {
   "cell_type": "code",
   "execution_count": null,
   "metadata": {},
   "outputs": [],
   "source": [
    "id = 246\n",
    "urlModel = UrlModel.objects.get(pk=id)\n",
    "points = []\n",
    "layer_name = 'COM'\n",
    "json_txt = json.loads(urlModel.url)\n",
    "layers = {}\n",
    "if 'layers' in json_txt:\n",
    "    layers = json_txt['layers']\n",
    "    for layer in layers:\n",
    "        if 'annotations' in layer:\n",
    "            annotation = layer['annotations']\n",
    "            if len(annotation) > 0 and layer_name in layer['name']:\n",
    "                #d = [row['point'] for row in annotation]\n",
    "                print(layer_name, len(annotation))\n",
    "                #print(json.dumps(annotation, indent=2))\n",
    "                points = annotation"
   ]
  },
  {
   "cell_type": "code",
   "execution_count": null,
   "metadata": {},
   "outputs": [],
   "source": [
    "points"
   ]
  },
  {
   "cell_type": "code",
   "execution_count": null,
   "metadata": {},
   "outputs": [],
   "source": [
    "layers = {}\n",
    "json_txt = json.loads(urlModel.url)\n",
    "if 'layers' in json_txt:\n",
    "    layers = json_txt['layers']\n",
    "    for layer in layers:\n",
    "        if 'annotations' in layer:\n",
    "            lname = layer['name']\n",
    "            if 'com' in lname.lower():\n",
    "                annotation = layer['annotations']\n",
    "                for com in annotation:\n",
    "                    x = com['point'][0]\n",
    "                    y = com['point'][1]\n",
    "                    z = com['point'][2]\n",
    "                    if 'description' in com:\n",
    "                        abbreviation = com['description']\n",
    "\n",
    "                        structure = Structure.objects.get(abbreviation=abbreviation)\n",
    "                        prep = Animal.objects.get(prep_id=urlModel.animal)\n",
    "                        centerOfMass = CenterOfMass(prep=prep, structure=structure,x=x,y=y,section=z,active=True,created=datetime.now())\n",
    "                        print(centerOfMass.prep.prep_id, abbreviation,structure.abbreviation,x,y,z,centerOfMass.created)\n",
    "                        #centerOfMass.save()\n"
   ]
  },
  {
   "cell_type": "code",
   "execution_count": null,
   "metadata": {},
   "outputs": [],
   "source": [
    "reference_centers"
   ]
  },
  {
   "cell_type": "code",
   "execution_count": null,
   "metadata": {},
   "outputs": [],
   "source": [
    "R, t = align_atlas(reference_centers, reference_scales=(0.325, 0.325, 20))"
   ]
  },
  {
   "cell_type": "code",
   "execution_count": null,
   "metadata": {},
   "outputs": [],
   "source": [
    "df = pd.DataFrame(reference_centers.values(), columns=['X', 'Y', 'Section'])\n",
    "df.head()\n",
    "fig = px.scatter_3d(df, x='X', y='Y', z='Section',\n",
    "              color='Section', opacity=0.7)\n",
    "fig.update_layout(margin=dict(l=0, r=0, b=0, t=0))\n",
    "fig.show()"
   ]
  },
  {
   "cell_type": "code",
   "execution_count": null,
   "metadata": {},
   "outputs": [],
   "source": [
    "#print(R)\n",
    "#print(t)\n",
    "rl = R. tolist()\n",
    "tl = t.tolist()\n",
    "data = {}\n",
    "data['transformation'] = rl\n",
    "data['translation'] = tl\n",
    "print(rl_json_str)\n",
    "print()\n",
    "print(tl_json_str)"
   ]
  }
 ],
 "metadata": {
  "kernelspec": {
   "display_name": "activebrainatlas",
   "language": "python",
   "name": "python3"
  },
  "language_info": {
   "codemirror_mode": {
    "name": "ipython",
    "version": 3
   },
   "file_extension": ".py",
   "mimetype": "text/x-python",
   "name": "python",
   "nbconvert_exporter": "python",
   "pygments_lexer": "ipython3",
   "version": "3.10.6"
  },
  "vscode": {
   "interpreter": {
    "hash": "d6fc81a39f7151122314ac217f982c3f337b5e27d98d98e6c42c6ddffecf64b8"
   }
  }
 },
 "nbformat": 4,
 "nbformat_minor": 4
}
